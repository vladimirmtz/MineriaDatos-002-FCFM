{
 "cells": [
  {
   "cell_type": "markdown",
   "id": "leading-atlas",
   "metadata": {},
   "source": [
    "# Ejercicios de Python \n",
    "### Mario Vladimir Martinez Loera 1688132\n",
    "\n",
    "## Ejercicio 1\n",
    "Realiza una variable con tu matricula y realiza una secuencia de imprimir con tu nombre y tu matricula concatenados"
   ]
  },
  {
   "cell_type": "code",
   "execution_count": 44,
   "id": "divine-therapist",
   "metadata": {},
   "outputs": [],
   "source": [
    "a= 1688132\n",
    "b= \"Mario Vladimir Martinez Loera \""
   ]
  },
  {
   "cell_type": "code",
   "execution_count": 45,
   "id": "unique-tyler",
   "metadata": {},
   "outputs": [
    {
     "name": "stdout",
     "output_type": "stream",
     "text": [
      "Mario Vladimir Martinez Loera 1688132\n"
     ]
    }
   ],
   "source": [
    "print(b+str(a))"
   ]
  },
  {
   "cell_type": "markdown",
   "id": "cleared-madonna",
   "metadata": {},
   "source": [
    "\n",
    "## Ejercicio 2\n",
    "Pidiendo el input del usuario pide dos números y crea una pequeña calculadora con los operadores básicos de suma, resta, multiplicación, división, y exponente."
   ]
  },
  {
   "cell_type": "code",
   "execution_count": null,
   "id": "proof-liverpool",
   "metadata": {},
   "outputs": [],
   "source": [
    "n1 = float(input(\"Introduce un número: \") )\n",
    "n2 = float(input(\"Introduce otro número: \") ) \n",
    "\n",
    "opcion = 0\n",
    "while True:\n",
    "    print(\"\"\"\n",
    "    ¿Qué quieres hacer?\n",
    "    1) Sumar los dos números\n",
    "    2) Restar los dos números\n",
    "    3) Multiplicar los dos números\n",
    "    4) Dividir los dos numeros\n",
    "    5) El exponente de los dos numeros \n",
    "    6) Salir\n",
    "    \"\"\")\n",
    "    opcion = int(input(\"Introduce un número: \") )     \n",
    "\n",
    "    if opcion == 1:\n",
    "        print(\"La suma de\",n1,\"+\",n2,\"es\",n1+n2)\n",
    "    elif opcion == 2:\n",
    "        print(\"La resta de\",n1,\"-\",n2,\"es\",n1-n2)\n",
    "    elif opcion == 3:\n",
    "        print(\"El producto de\",n1,\"*\",n2,\"es\",n1*n2)\n",
    "    elif opcion == 4:\n",
    "        print(\"La division de\",n1,\"*\",n2,\"es\",n1/n2)\n",
    "    elif opcion == 5:\n",
    "        print(\"El potencia de \",n1,\"*\",n2,\"es\",n1**n2)\n",
    "    elif opcion == 6:\n",
    "        break\n",
    "    else:\n",
    "        print(\"Opción incorrecta\")"
   ]
  },
  {
   "cell_type": "markdown",
   "id": "synthetic-frederick",
   "metadata": {},
   "source": [
    "## Ejercicio 3.\n",
    "Con loop while o for, realiza una lista de 10 numeros multiplos de 3, y después realiza una función de loop que sume todos los números dentro del arreglo."
   ]
  },
  {
   "cell_type": "code",
   "execution_count": 8,
   "id": "metric-wholesale",
   "metadata": {},
   "outputs": [
    {
     "name": "stdout",
     "output_type": "stream",
     "text": [
      "[3, 6, 9, 12, 15, 18, 21, 24, 27, 30]\n",
      "165\n"
     ]
    }
   ],
   "source": [
    "def multiplos_3(numero, cantidad):\n",
    "    multiplos= []\n",
    "    i=1\n",
    "    while len(multiplos) < cantidad:\n",
    "        multiplo=numero *i\n",
    "        multiplos.append(multiplo)\n",
    "        i=i+1\n",
    "    return multiplos \n",
    "\n",
    "\n",
    "def suma_lista_3(lista):\n",
    "    suma=0\n",
    "    for numero in lista:\n",
    "        suma+=numero\n",
    "    return suma\n",
    "m= multiplos_3(3, 10)\n",
    "print(m)\n",
    "print(suma_lista_3(m))\n",
    "        "
   ]
  },
  {
   "cell_type": "markdown",
   "id": "appropriate-paint",
   "metadata": {},
   "source": [
    "## Ejercicio 4\n",
    "Con una función de if else, revisar si un número es par o es impar.\n",
    "Con una función de if else, revisar si un número es primo o no."
   ]
  },
  {
   "cell_type": "code",
   "execution_count": 14,
   "id": "featured-estimate",
   "metadata": {},
   "outputs": [],
   "source": [
    "def par_impar():\n",
    "    numx= int(input('Escriba el numero entero cualquiera'))\n",
    "    if numx % 2 == 0:\n",
    "        print('%i Es un numero par. ' % numx)\n",
    "    else:\n",
    "        print('%i Es un numero impar. '% numx)\n"
   ]
  },
  {
   "cell_type": "code",
   "execution_count": 13,
   "id": "duplicate-remove",
   "metadata": {},
   "outputs": [
    {
     "name": "stdout",
     "output_type": "stream",
     "text": [
      "Escriba el numero entero cualquiera5\n",
      "5 Es un numero impa. \n"
     ]
    }
   ],
   "source": [
    "par_impar()"
   ]
  },
  {
   "cell_type": "code",
   "execution_count": 28,
   "id": "square-conditioning",
   "metadata": {},
   "outputs": [
    {
     "name": "stdout",
     "output_type": "stream",
     "text": [
      "Ingrese un numero: 28\n",
      "El 28 no es un numero primo\n"
     ]
    }
   ],
   "source": [
    "def num_primo():\n",
    "    numr= int(input('Ingrese un numero: '))\n",
    "    if numr>1:\n",
    "        cont=0\n",
    "        for  i in range(2, numr):\n",
    "            resto= numr%i\n",
    "            if resto == 0:\n",
    "                cont+=1\n",
    "        if cont == 0:\n",
    "            print(' El {} es un numero primo'.format(numr))\n",
    "        else:\n",
    "            print('El {} no es un numero primo'.format(numr))\n",
    "\n",
    "    else:\n",
    "        print('El {} no es un numero primo'.format(numr))\n",
    "num_primo()"
   ]
  },
  {
   "cell_type": "markdown",
   "id": "european-offset",
   "metadata": {},
   "source": [
    "## Ejercicio 5.\n",
    "Utilizando diferentes clases en python, crea una calculadora con los operadores básicos de suma, resta, multiplicación, división, y exponente."
   ]
  },
  {
   "cell_type": "code",
   "execution_count": 1,
   "id": "responsible-projection",
   "metadata": {},
   "outputs": [
    {
     "name": "stdout",
     "output_type": "stream",
     "text": [
      "\n",
      "    ¿Qué quieres hacer?\n",
      "    1) Sumar los dos números\n",
      "    2) Restar los dos números\n",
      "    3) Multiplicar los dos números\n",
      "    4) Dividir los dos numeros\n",
      "    5) El exponente de los dos numeros \n",
      "    0) Salir\n",
      "    \n",
      "Introduce una opcion: 1\n",
      "Ingresa el primer nuemero: 3\n",
      "Ingresa el segundo numero: 4\n",
      "El resultado de sumar  3 y 4 es: 7\n",
      "\n",
      "    ¿Qué quieres hacer?\n",
      "    1) Sumar los dos números\n",
      "    2) Restar los dos números\n",
      "    3) Multiplicar los dos números\n",
      "    4) Dividir los dos numeros\n",
      "    5) El exponente de los dos numeros \n",
      "    0) Salir\n",
      "    \n",
      "Introduce una opcion: 2\n",
      "Ingresa el primer nuemero: 5\n",
      "Ingresa el segundo numero: 3\n",
      "El resultado de restar  5 y 3 es: 2\n",
      "\n",
      "    ¿Qué quieres hacer?\n",
      "    1) Sumar los dos números\n",
      "    2) Restar los dos números\n",
      "    3) Multiplicar los dos números\n",
      "    4) Dividir los dos numeros\n",
      "    5) El exponente de los dos numeros \n",
      "    0) Salir\n",
      "    \n",
      "Introduce una opcion: 3\n",
      "Ingresa el primer nuemero: 3\n",
      "Ingresa el segundo numero: 4\n",
      "El resultado de multiplicar  3 y 4 es: 12\n",
      "\n",
      "    ¿Qué quieres hacer?\n",
      "    1) Sumar los dos números\n",
      "    2) Restar los dos números\n",
      "    3) Multiplicar los dos números\n",
      "    4) Dividir los dos numeros\n",
      "    5) El exponente de los dos numeros \n",
      "    0) Salir\n",
      "    \n",
      "Introduce una opcion: 5\n",
      "Ingresa el primer nuemero: 3\n",
      "Ingresa el segundo numero: 3\n",
      "El resultado de elevar a potencia  3 y3 es: 27\n",
      "\n",
      "    ¿Qué quieres hacer?\n",
      "    1) Sumar los dos números\n",
      "    2) Restar los dos números\n",
      "    3) Multiplicar los dos números\n",
      "    4) Dividir los dos numeros\n",
      "    5) El exponente de los dos numeros \n",
      "    0) Salir\n",
      "    \n",
      "Introduce una opcion: 4\n",
      "Ingresa el primer nuemero: 5\n",
      "Ingresa el segundo numero: 3\n",
      "El resultado de dividir  5 y 3 es: 1.6666666666666667\n",
      "\n",
      "    ¿Qué quieres hacer?\n",
      "    1) Sumar los dos números\n",
      "    2) Restar los dos números\n",
      "    3) Multiplicar los dos números\n",
      "    4) Dividir los dos numeros\n",
      "    5) El exponente de los dos numeros \n",
      "    0) Salir\n",
      "    \n",
      "Introduce una opcion: 0\n",
      "Fin de la calculadora\n"
     ]
    }
   ],
   "source": [
    "class calculadora:\n",
    "    def sumar(self, x, y):\n",
    "        print ('El resultado de sumar  ' +str(x) + ' y '+str(y)+ ' es: '+str((x+y)) )\n",
    "    def restar(self, x, y):\n",
    "        print ('El resultado de restar  '+str(x) + ' y '+str(y)+ ' es: '+str((x-y)) )\n",
    "    def multiplicar(self, x, y):\n",
    "        print ('El resultado de multiplicar  '+str(x) + ' y '+str(y)+ ' es: '+str((x*y)) )\n",
    "    def dividir(self, x, y):\n",
    "        print ('El resultado de dividir  '+str(x) + ' y '+str(y)+ ' es: '+str((x/y)) )\n",
    "    def exponente(self, x, y):\n",
    "        print ('El resultado de elevar a potencia  '+str(x) + ' y' +str(y)+ ' es: '+str((x**y)) )\n",
    "\n",
    "c= calculadora()\n",
    "def menu():\n",
    "    print(\"\"\"\n",
    "    ¿Qué quieres hacer?\n",
    "    1) Sumar los dos números\n",
    "    2) Restar los dos números\n",
    "    3) Multiplicar los dos números\n",
    "    4) Dividir los dos numeros\n",
    "    5) El exponente de los dos numeros \n",
    "    0) Salir\n",
    "    \"\"\")\n",
    "    return int(input('Introduce una opcion: '))\n",
    "\n",
    "while(True):\n",
    "    opcion= menu()\n",
    "    if(opcion==0):\n",
    "        break\n",
    "    else:\n",
    "        num1= int(input('Ingresa el primer nuemero: '))\n",
    "        num2= int(input('Ingresa el segundo numero: '))\n",
    "        \n",
    "        if(opcion==1):\n",
    "            c.sumar(num1, num2)\n",
    "        elif(opcion==2):\n",
    "            c.restar(num1, num2)\n",
    "        elif(opcion==3):\n",
    "            c.multiplicar(num1, num2)\n",
    "        elif(opcion==4):\n",
    "            c.dividir(num1, num2)\n",
    "        elif(opcion==5):\n",
    "            c.exponente(num1, num2)\n",
    "        else:\n",
    "            print('Opcion incorrecta')\n",
    "\n",
    "print('Fin de la calculadora')"
   ]
  },
  {
   "cell_type": "markdown",
   "id": "played-joyce",
   "metadata": {},
   "source": [
    "## Ejercicios con estructuras básicas de python\n",
    "### Tuplas\n",
    "\n",
    "- Crear una variable flotante, integer, boleana y compleja e imprimir el tipo de variable que es.\n",
    "\n",
    "- Crear una tupla con valores enteros imprimir el primer y ultimo valor.\n",
    "\n",
    "- Añadir 3 valores de string a la tupla.\n",
    "\n",
    "- Verificar si una variable existe dentro de la tupla.\n",
    "\n",
    "### Listas\n",
    "\n",
    "- Crear una lista con 40 elementos aleatorios enteros.\n",
    "\n",
    "- Con una funcion (def) crear dos listas nuevas a partir de la lista creada por numeros aleatorios, en la cual en una esten los elementos pares, y en la otra los elementos impares.\n",
    "\n",
    "- Crear dos variables con la longitud de ambas listas nuevas e imprimir las variables.\n",
    "\n",
    "- Ordenar los elementos de la lista par de mayor a menor, y los de la lista impar de menor a mayor.\n",
    "\n",
    "- Utilizar al menos cuatro de las funciones de listas en python en la lista original de 40 elementos.\n",
    "\n",
    "### Diccionarios\n",
    "\n",
    "- Crear un diccionario de 6 personas que conozcas con su primer nombre y su edad.\n",
    "\n",
    "- Crear una lista con los valores de la edad y reacomodar la lista de menor a mayor valor.\n",
    "\n",
    "- Usando el diccionario y un loop, imprimir solo los nombres.\n",
    "\n",
    "- Añadir dos personas nuevas a tu diccionario, incluyendo edad.\n",
    "\n",
    "### Sets\n",
    "\n",
    "- Crea un set con 100 numeros aleatorios enteros del 1 al 25.\n",
    "\n",
    "- Comprueba la longitud de tu set.\n",
    "\n",
    "- Crea una lista de 5 numeros aleatorios del 1 al 10 y comprueba si cada valor aparece en el set inicial."
   ]
  },
  {
   "cell_type": "code",
   "execution_count": 6,
   "id": "sensitive-cycle",
   "metadata": {},
   "outputs": [
    {
     "name": "stdout",
     "output_type": "stream",
     "text": [
      "1\n",
      "10\n"
     ]
    }
   ],
   "source": [
    "#Imprimir el primer valor y el ultimo de una tupla \n",
    "tlp= (1, 2, 3, 4, 5, 6, 7, 8, 9, 10)\n",
    "print(tlp[0])\n",
    "print(tlp[-1])"
   ]
  },
  {
   "cell_type": "code",
   "execution_count": 13,
   "id": "gothic-morgan",
   "metadata": {},
   "outputs": [
    {
     "name": "stdout",
     "output_type": "stream",
     "text": [
      "(1, 2, 3, 4, 5, 6, 7, 8, 9, 10, 5, 'Dupla', 'Dupla', 'cadena', 'de caracteres')\n"
     ]
    }
   ],
   "source": [
    "tlp= tlp + ('Dupla', 'cadena', 'de caracteres') #Con este se contatenan los datos \n",
    "print(tlp)"
   ]
  },
  {
   "cell_type": "code",
   "execution_count": 19,
   "id": "decreased-uganda",
   "metadata": {},
   "outputs": [
    {
     "name": "stdout",
     "output_type": "stream",
     "text": [
      "15\n",
      "True\n",
      "2\n",
      "2\n"
     ]
    },
    {
     "data": {
      "text/plain": [
       "tuple"
      ]
     },
     "execution_count": 19,
     "metadata": {},
     "output_type": "execute_result"
    }
   ],
   "source": [
    "print(len(tlp)) #Numero de datos en una tupla\n",
    "print(4 in tlp) #Buscar el dato 4 dentro de la tupla, regresara si es True o False\n",
    "print(tlp.index(3)) #con este comando aparece en que posicion de la tupla esta el valor buscado recordando que empieza en 0\n",
    "print(tlp.count(5)) #cuenta el numero de veces de un dato en la tupla\n",
    "type(tlp) #tipo de dato"
   ]
  },
  {
   "cell_type": "markdown",
   "id": "supported-profit",
   "metadata": {},
   "source": [
    "#### Listas"
   ]
  },
  {
   "cell_type": "code",
   "execution_count": 21,
   "id": "sexual-selling",
   "metadata": {},
   "outputs": [
    {
     "name": "stdout",
     "output_type": "stream",
     "text": [
      "Ingrese cuantos numeros aleatorios desea obtener\n",
      "40\n",
      "[303, 913, 503, 603, 791, 141, 187, 240, 149, 4, 880, 233, 535, 675, 9, 722, 546, 253, 383, 609, 236, 904, 242, 232, 142, 487, 600, 911, 844, 408, 948, 888, 401, 904, 711, 937, 312, 502, 574, 310]\n"
     ]
    }
   ],
   "source": [
    "import random #importar libreria que permita buscar numeros aleatorios para la lista\n",
    "\n",
    "def listaAleatorios(n):\n",
    "    lista = [0]  * n\n",
    "    for i in range(n):\n",
    "          lista[i] = random.randint(0, 1000) #Rango de numeros para crear la lista\n",
    "    return lista\n",
    "\n",
    "print(\"Ingrese cuantos numeros aleatorios desea obtener\")\n",
    "n=int(input())\n",
    "\n",
    "aleatorios=listaAleatorios(n)\n",
    "print(aleatorios)"
   ]
  },
  {
   "cell_type": "code",
   "execution_count": 42,
   "id": "delayed-philip",
   "metadata": {},
   "outputs": [
    {
     "name": "stdout",
     "output_type": "stream",
     "text": [
      "Los numeros impares son:  [303, 913, 503, 603, 791, 141, 187, 149, 233, 535, 675, 9, 253, 383, 609, 487, 911, 401, 711, 937]\n",
      "Cantidad de elementos en la lista impares:  20\n",
      "Los numeros pares son:  [240, 4, 880, 722, 546, 236, 904, 242, 232, 142, 600, 844, 408, 948, 888, 904, 312, 502, 574, 310]\n",
      "Cantidad de elementos en la lista pares:  20\n"
     ]
    }
   ],
   "source": [
    " def pares_aleatorio(lista):\n",
    "        pares= []\n",
    "        for n in lista:\n",
    "            if n %2 ==0:\n",
    "                pares.append(n)\n",
    "        return pares\n",
    "def impares_aleatorio(lista):\n",
    "        impares= []\n",
    "        for n in lista:\n",
    "            if n %2 !=0:\n",
    "                impares.append(n)\n",
    "        return impares\n",
    "\n",
    "impares_listal=impares_aleatorio(aleatorios)\n",
    "pares_listal= pares_aleatorio(aleatorios)\n",
    "\n",
    "print('Los numeros impares son: ', impares_listal)\n",
    "print('Cantidad de elementos en la lista impares: ', len(impares_listal))\n",
    "\n",
    "print('Los numeros pares son: ', pares_listal)\n",
    "print('Cantidad de elementos en la lista pares: ', len(pares_listal))"
   ]
  },
  {
   "cell_type": "code",
   "execution_count": 46,
   "id": "collaborative-integrity",
   "metadata": {},
   "outputs": [
    {
     "name": "stdout",
     "output_type": "stream",
     "text": [
      "Los numeros pares ordenados son:  [948, 904, 904, 888, 880, 844, 722, 600, 574, 546, 502, 408, 312, 310, 242, 240, 236, 232, 142, 4]\n",
      "Los numeros impares ordenados son:  [9, 141, 149, 187, 233, 253, 303, 383, 401, 487, 503, 535, 603, 609, 675, 711, 791, 911, 913, 937]\n"
     ]
    }
   ],
   "source": [
    "impares_listal.sort()\n",
    "pares_listal.sort()\n",
    "pares_listal.reverse()\n",
    "\n",
    "print('Los numeros pares ordenados son: ', pares_listal)\n",
    "print('Los numeros impares ordenados son: ', impares_listal)"
   ]
  },
  {
   "cell_type": "code",
   "execution_count": 47,
   "id": "excited-ethnic",
   "metadata": {},
   "outputs": [],
   "source": [
    "##funciones de listas"
   ]
  },
  {
   "cell_type": "markdown",
   "id": "christian-excitement",
   "metadata": {},
   "source": [
    "### Diccionarios"
   ]
  },
  {
   "cell_type": "code",
   "execution_count": 51,
   "id": "permanent-brave",
   "metadata": {},
   "outputs": [
    {
     "name": "stdout",
     "output_type": "stream",
     "text": [
      "Edades [15, 19, 20, 22, 25, 32]\n"
     ]
    }
   ],
   "source": [
    "diccionario={'Pedro':19, 'Mario':22, 'Sayuri':15, 'Nadia':20, 'Juan':32, 'Itzel':25}\n",
    "edades= list(diccionario.values())\n",
    "edades.sort()\n",
    "print('Edades', edades)"
   ]
  },
  {
   "cell_type": "code",
   "execution_count": 55,
   "id": "brutal-metabolism",
   "metadata": {},
   "outputs": [
    {
     "name": "stdout",
     "output_type": "stream",
     "text": [
      "Pedro\n",
      "Mario\n",
      "Sayuri\n",
      "Nadia\n",
      "Juan\n",
      "Itzel\n",
      "Hector\n",
      "Ivan\n"
     ]
    }
   ],
   "source": [
    "for clave in diccionario:\n",
    "    print(clave)"
   ]
  },
  {
   "cell_type": "code",
   "execution_count": 54,
   "id": "minute-hawaiian",
   "metadata": {},
   "outputs": [
    {
     "name": "stdout",
     "output_type": "stream",
     "text": [
      "{'Pedro': 19, 'Mario': 22, 'Sayuri': 15, 'Nadia': 20, 'Juan': 32, 'Itzel': 25, 'Hector': 58, 'Ivan': 21}\n"
     ]
    }
   ],
   "source": [
    "diccionario.update({'Hector': 58, 'Ivan':21}) #agregar nombre al diccionario\n",
    "print(diccionario)"
   ]
  },
  {
   "cell_type": "markdown",
   "id": "theoretical-height",
   "metadata": {},
   "source": [
    "### Sets"
   ]
  },
  {
   "cell_type": "code",
   "execution_count": 34,
   "id": "completed-feelings",
   "metadata": {},
   "outputs": [
    {
     "name": "stdout",
     "output_type": "stream",
     "text": [
      "Ingrese cuantos numeros aleatorios desea obtener\n",
      "40\n",
      "[14, 11, 21, 9, 25, 9, 22, 20, 3, 24, 21, 17, 3, 14, 22, 4, 5, 20, 20, 5, 22, 16, 13, 11, 6, 22, 3, 15, 14, 19, 24, 19, 25, 19, 22, 9, 17, 9, 11, 22]\n",
      "{3, 4, 5, 6, 9, 11, 13, 14, 15, 16, 17, 19, 20, 21, 22, 24, 25}\n"
     ]
    }
   ],
   "source": [
    "import random\n",
    "def listaSets(a):\n",
    "    lista = [0]  * a\n",
    "    for i in range(a):\n",
    "          lista[i] = random.randint(1, 25) #Rango de numeros para crear la lista\n",
    "    return lista\n",
    "\n",
    "print(\"Ingrese cuantos numeros aleatorios desea obtener\")\n",
    "a=int(input())\n",
    "\n",
    "\n",
    "secs=listaSets(a)\n",
    "print(secs)\n",
    "\n",
    "secs=set(secs)\n",
    "print(secs)"
   ]
  },
  {
   "cell_type": "code",
   "execution_count": 35,
   "id": "included-conclusion",
   "metadata": {},
   "outputs": [
    {
     "data": {
      "text/plain": [
       "17"
      ]
     },
     "execution_count": 35,
     "metadata": {},
     "output_type": "execute_result"
    }
   ],
   "source": [
    "len(secs) #el set elimina los valores dupicados"
   ]
  },
  {
   "cell_type": "code",
   "execution_count": 37,
   "id": "retired-leisure",
   "metadata": {},
   "outputs": [
    {
     "name": "stdout",
     "output_type": "stream",
     "text": [
      "Ingrese cuantos numeros aleatorios desea obtener\n",
      "5\n",
      "[7, 9, 7, 8, 6]\n"
     ]
    }
   ],
   "source": [
    "def listaAleatorios(n_1):\n",
    "    lista = [0]  * n_1\n",
    "    for i in range(n_1):\n",
    "          lista[i] = random.randint(1, 10) #Rango de numeros para crear la lista\n",
    "    return lista\n",
    "\n",
    "print(\"Ingrese cuantos numeros aleatorios desea obtener\")\n",
    "n_1=int(input())\n",
    "aleatorio=listaAleatorios(n)\n",
    "print(aleatorio)\n",
    "aleatorio=set(aleatorio)"
   ]
  },
  {
   "cell_type": "code",
   "execution_count": 38,
   "id": "informational-forwarding",
   "metadata": {},
   "outputs": [
    {
     "name": "stdout",
     "output_type": "stream",
     "text": [
      "False\n"
     ]
    }
   ],
   "source": [
    "print(aleatorio in secs) "
   ]
  },
  {
   "cell_type": "code",
   "execution_count": null,
   "id": "promotional-shanghai",
   "metadata": {},
   "outputs": [],
   "source": []
  }
 ],
 "metadata": {
  "kernelspec": {
   "display_name": "Python 3",
   "language": "python",
   "name": "python3"
  },
  "language_info": {
   "codemirror_mode": {
    "name": "ipython",
    "version": 3
   },
   "file_extension": ".py",
   "mimetype": "text/x-python",
   "name": "python",
   "nbconvert_exporter": "python",
   "pygments_lexer": "ipython3",
   "version": "3.9.1"
  }
 },
 "nbformat": 4,
 "nbformat_minor": 5
}
